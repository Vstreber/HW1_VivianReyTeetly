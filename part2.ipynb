{
 "cells": [
  {
   "cell_type": "code",
   "execution_count": null,
   "metadata": {},
   "outputs": [],
   "source": [
    "# The linear regression implementation uses a tutorial by Mirko Stojiljković (https://realpython.com/linear-regression-in-python/)\n",
    "\n",
    "import pandas as pd\n",
    "import numpy as np\n",
    "import matplotlib.pyplot as plt\n",
    "\n",
    "from scipy import stats\n",
    "from sklearn.linear_model import LinearRegression\n",
    "from sklearn.metrics import mean_squared_error\n",
    "\n",
    "csv = pd.read_csv('auto-mpg-edit.csv')\n",
    "\n",
    "horse = np.array(csv['horsepower']).reshape((-1, 1))\n",
    "mpg = np.array(csv['mpg'])\n",
    "\n",
    "lr = LinearRegression().fit(horse, mpg)\n",
    "\n",
    "slope = lr.coef_\n",
    "intercept = lr.intercept_\n",
    "\n",
    "print(f\"Intercept: {lr.intercept_}\")\n",
    "print(f\"Slope: {lr.coef_}\")\n",
    "\n",
    "#predicting mpg for a 98 horsepower.\n",
    "print(f\"90 horsepower =~ {lr.predict([[98]])} mpg\")\n",
    "\n",
    "#obtaining confidence and prediction. reference: https://github.com/xbeat/Machine-Learning/blob/main/Confidence%20and%20Prediction%20Intervals%20with%20Python.md\n",
    "\n",
    "mpg_pred = lr.predict(horse)\n",
    "mse = mean_squared_error(mpg, mpg_pred)\n",
    "std_error = np.sqrt(mse)\n",
    "z = stats.norm.ppf(0.95)\n",
    "pi = np.column_stack((mpg_pred - z * std_error, mpg_pred + z * std_error))\n",
    "print(pi)\n",
    "\n",
    "t = stats.ttest_ind(csv['horsepower'], mpg)\n",
    "confidence = t.confidence_interval(confidence_level=0.95)\n",
    "print(confidence)"
   ]
  },
  {
   "cell_type": "code",
   "execution_count": null,
   "metadata": {},
   "outputs": [],
   "source": [
    "plt.plot(horse,mpg, 'yo')\n",
    "plt.plot(horse, slope*horse+intercept) "
   ]
  },
  {
   "cell_type": "markdown",
   "metadata": {},
   "source": [
    "\n",
    "Is there a relationship between the predictor and the response?\n",
    "    Yes, a higher horsepower is corellated with a lower mpg.\n",
    "\n",
    "How strong is the relationshoip between the predictor and the response?\n",
    "    Fairly strong; the highest mpgs are all in the lower end of horsepowers. The vice versa is less strong, but still present --- lower values of mpg appear in the middle-to-high range of horsepower.\n",
    "\n",
    "Is the relationship between the predictor and the response positive or negative? What is the predicted mpg associated with a horsepower of 98? What are the associated 95% confidence and prediction intervals?\n",
    "    The relationship is negative. A 98 horsepower is predicted to have a 24.49 mpg. Confidence interval is 76.78-84.49, and prediction interval is 11.34-27.49.\n",
    "\n",
    "In your plot, do you see any issues with the fit?\n",
    "    While it does seem to be the line of best fit, the line doesn't include necessary information such as volume of responses in certain areas -- for example, there are far more datapoints in the higher range of mpgs and low-to-mid range of horsepower. "
   ]
  }
 ],
 "metadata": {
  "kernelspec": {
   "display_name": "Python 3 (ipykernel)",
   "language": "python",
   "name": "python3"
  },
  "language_info": {
   "codemirror_mode": {
    "name": "ipython",
    "version": 3
   },
   "file_extension": ".py",
   "mimetype": "text/x-python",
   "name": "python",
   "nbconvert_exporter": "python",
   "pygments_lexer": "ipython3",
   "version": "3.12.1"
  }
 },
 "nbformat": 4,
 "nbformat_minor": 2
}
